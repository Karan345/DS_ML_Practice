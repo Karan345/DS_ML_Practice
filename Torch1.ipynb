{
  "nbformat": 4,
  "nbformat_minor": 0,
  "metadata": {
    "colab": {
      "provenance": [],
      "mount_file_id": "17OxjF4qo3BQUSir1JrnaOkl7JhwnGEyu",
      "authorship_tag": "ABX9TyMKSLhGhmK1VpUiZBkXysz4",
      "include_colab_link": true
    },
    "kernelspec": {
      "name": "python3",
      "display_name": "Python 3"
    },
    "language_info": {
      "name": "python"
    }
  },
  "cells": [
    {
      "cell_type": "markdown",
      "metadata": {
        "id": "view-in-github",
        "colab_type": "text"
      },
      "source": [
        "<a href=\"https://colab.research.google.com/github/Karan345/DS_ML_Practice/blob/main/Torch1.ipynb\" target=\"_parent\"><img src=\"https://colab.research.google.com/assets/colab-badge.svg\" alt=\"Open In Colab\"/></a>"
      ]
    },
    {
      "cell_type": "code",
      "execution_count": null,
      "metadata": {
        "colab": {
          "base_uri": "https://localhost:8080/"
        },
        "id": "fPBQj90uEiCB",
        "outputId": "f638dc48-4f29-4883-df34-e78da2908508"
      },
      "outputs": [
        {
          "output_type": "stream",
          "name": "stdout",
          "text": [
            "tensor(4.)\n"
          ]
        }
      ],
      "source": [
        "import torch\n",
        "a=torch.tensor(1.5)\n",
        "b=torch.tensor(2.5)\n",
        "c=torch.add(a,b)\n",
        "print(c)"
      ]
    },
    {
      "cell_type": "code",
      "source": [
        "print(torch.__version__)"
      ],
      "metadata": {
        "colab": {
          "base_uri": "https://localhost:8080/"
        },
        "id": "sINepELZE4Ca",
        "outputId": "b77e9034-922b-4ab9-928f-c29edea1b8a8"
      },
      "execution_count": null,
      "outputs": [
        {
          "output_type": "stream",
          "name": "stdout",
          "text": [
            "2.0.1+cu118\n"
          ]
        }
      ]
    },
    {
      "cell_type": "markdown",
      "source": [
        "### Building MLP"
      ],
      "metadata": {
        "id": "Yu5EOAs5E9rg"
      }
    },
    {
      "cell_type": "code",
      "source": [
        "import torch.nn as nn\n",
        "\n",
        "model=nn.Sequential(\n",
        "    nn.Linear(8,12),\n",
        "    nn.ReLU(),\n",
        "    nn.Linear(12,8),\n",
        "    nn.ReLU(),\n",
        "    nn.Linear(8,1),\n",
        "    nn.Sigmoid()\n",
        ")\n",
        "print(model)"
      ],
      "metadata": {
        "id": "ZelNC3U-FAJL",
        "colab": {
          "base_uri": "https://localhost:8080/"
        },
        "outputId": "6b4a17dd-8a07-484b-9bf0-98a8ace75bfd"
      },
      "execution_count": null,
      "outputs": [
        {
          "output_type": "stream",
          "name": "stdout",
          "text": [
            "Sequential(\n",
            "  (0): Linear(in_features=8, out_features=12, bias=True)\n",
            "  (1): ReLU()\n",
            "  (2): Linear(in_features=12, out_features=8, bias=True)\n",
            "  (3): ReLU()\n",
            "  (4): Linear(in_features=8, out_features=1, bias=True)\n",
            "  (5): Sigmoid()\n",
            ")\n"
          ]
        }
      ]
    },
    {
      "cell_type": "markdown",
      "source": [
        "# Training a Pytorch Model\n"
      ],
      "metadata": {
        "id": "5O6Ci2GrqJOJ"
      }
    },
    {
      "cell_type": "code",
      "source": [
        "from google.colab import drive\n",
        "drive.mount('/content/drive')"
      ],
      "metadata": {
        "colab": {
          "base_uri": "https://localhost:8080/"
        },
        "id": "Kcu7WaS_pF-G",
        "outputId": "3bd8459f-eb82-4db7-82be-4503b1511e86"
      },
      "execution_count": null,
      "outputs": [
        {
          "output_type": "stream",
          "name": "stdout",
          "text": [
            "Drive already mounted at /content/drive; to attempt to forcibly remount, call drive.mount(\"/content/drive\", force_remount=True).\n"
          ]
        }
      ]
    },
    {
      "cell_type": "code",
      "source": [
        "!pwd"
      ],
      "metadata": {
        "colab": {
          "base_uri": "https://localhost:8080/"
        },
        "id": "YjsdpYbjq9jX",
        "outputId": "253df7ce-3a9d-407e-aba3-a348c54cb5d6"
      },
      "execution_count": null,
      "outputs": [
        {
          "output_type": "stream",
          "name": "stdout",
          "text": [
            "/content\n"
          ]
        }
      ]
    },
    {
      "cell_type": "code",
      "source": [
        "import numpy as np\n",
        "import torch.optim as optim"
      ],
      "metadata": {
        "id": "_0pnBprrrKQj"
      },
      "execution_count": 9,
      "outputs": []
    },
    {
      "cell_type": "code",
      "source": [
        "dataset =np.loadtxt('/content/drive/MyDrive/pima-indians-diabetes.csv', delimiter=',')\n"
      ],
      "metadata": {
        "id": "vifMLknorE8_"
      },
      "execution_count": 13,
      "outputs": []
    },
    {
      "cell_type": "code",
      "source": [
        "X = dataset[:,0:8]\n",
        "y = dataset[:,8]\n",
        "X = torch.tensor(X, dtype=torch.float32)\n",
        "y = torch.tensor(y, dtype=torch.float32).reshape(-1, 1)\n",
        " \n",
        "loss_fn = nn.BCELoss() # binary cross-entropy\n",
        "optimizer = optim.Adam(model.parameters(), lr=0.001)\n",
        " \n",
        "n_epochs = 100\n",
        "batch_size = 10\n",
        "for epoch in range(n_epochs):\n",
        "    for i in range(0, len(X), batch_size):\n",
        "        Xbatch = X[i:i+batch_size]\n",
        "        y_pred = model(Xbatch)\n",
        "        ybatch = y[i:i+batch_size]\n",
        "        loss = loss_fn(y_pred, ybatch)\n",
        "        optimizer.zero_grad()\n",
        "        loss.backward()\n",
        "        optimizer.step()\n",
        "    print(f'Finished epoch {epoch}, latest loss {loss}')"
      ],
      "metadata": {
        "colab": {
          "base_uri": "https://localhost:8080/"
        },
        "id": "wZ4NqUSDsD51",
        "outputId": "aa7a674f-fbc6-4a90-b739-2a6a4e6fa44a"
      },
      "execution_count": 14,
      "outputs": [
        {
          "output_type": "stream",
          "name": "stdout",
          "text": [
            "Finished epoch 0, latest loss 0.553605318069458\n",
            "Finished epoch 1, latest loss 0.5296656489372253\n",
            "Finished epoch 2, latest loss 0.5039710998535156\n",
            "Finished epoch 3, latest loss 0.4881969094276428\n",
            "Finished epoch 4, latest loss 0.47227635979652405\n",
            "Finished epoch 5, latest loss 0.46944618225097656\n",
            "Finished epoch 6, latest loss 0.46543431282043457\n",
            "Finished epoch 7, latest loss 0.4665314555168152\n",
            "Finished epoch 8, latest loss 0.46502363681793213\n",
            "Finished epoch 9, latest loss 0.46229100227355957\n",
            "Finished epoch 10, latest loss 0.46324601769447327\n",
            "Finished epoch 11, latest loss 0.46119385957717896\n",
            "Finished epoch 12, latest loss 0.4536982774734497\n",
            "Finished epoch 13, latest loss 0.45487555861473083\n",
            "Finished epoch 14, latest loss 0.4519790709018707\n",
            "Finished epoch 15, latest loss 0.45446011424064636\n",
            "Finished epoch 16, latest loss 0.45784544944763184\n",
            "Finished epoch 17, latest loss 0.45821574330329895\n",
            "Finished epoch 18, latest loss 0.459485799074173\n",
            "Finished epoch 19, latest loss 0.4618532061576843\n",
            "Finished epoch 20, latest loss 0.45723778009414673\n",
            "Finished epoch 21, latest loss 0.459441214799881\n",
            "Finished epoch 22, latest loss 0.4602274000644684\n",
            "Finished epoch 23, latest loss 0.46121945977211\n",
            "Finished epoch 24, latest loss 0.4620397388935089\n",
            "Finished epoch 25, latest loss 0.46136051416397095\n",
            "Finished epoch 26, latest loss 0.4655928313732147\n",
            "Finished epoch 27, latest loss 0.46518534421920776\n",
            "Finished epoch 28, latest loss 0.46482473611831665\n",
            "Finished epoch 29, latest loss 0.46868711709976196\n",
            "Finished epoch 30, latest loss 0.46241652965545654\n",
            "Finished epoch 31, latest loss 0.4544598460197449\n",
            "Finished epoch 32, latest loss 0.4522966146469116\n",
            "Finished epoch 33, latest loss 0.44950640201568604\n",
            "Finished epoch 34, latest loss 0.44968172907829285\n",
            "Finished epoch 35, latest loss 0.4499947726726532\n",
            "Finished epoch 36, latest loss 0.44832631945610046\n",
            "Finished epoch 37, latest loss 0.4470970630645752\n",
            "Finished epoch 38, latest loss 0.44731906056404114\n",
            "Finished epoch 39, latest loss 0.44343292713165283\n",
            "Finished epoch 40, latest loss 0.4437236785888672\n",
            "Finished epoch 41, latest loss 0.4457865059375763\n",
            "Finished epoch 42, latest loss 0.44905897974967957\n",
            "Finished epoch 43, latest loss 0.44178882241249084\n",
            "Finished epoch 44, latest loss 0.44345277547836304\n",
            "Finished epoch 45, latest loss 0.4457460939884186\n",
            "Finished epoch 46, latest loss 0.4451322555541992\n",
            "Finished epoch 47, latest loss 0.4421851336956024\n",
            "Finished epoch 48, latest loss 0.4430895149707794\n",
            "Finished epoch 49, latest loss 0.4440906345844269\n",
            "Finished epoch 50, latest loss 0.4380134642124176\n",
            "Finished epoch 51, latest loss 0.44265449047088623\n",
            "Finished epoch 52, latest loss 0.4400855302810669\n",
            "Finished epoch 53, latest loss 0.441144198179245\n",
            "Finished epoch 54, latest loss 0.4421989321708679\n",
            "Finished epoch 55, latest loss 0.4455636441707611\n",
            "Finished epoch 56, latest loss 0.4378608167171478\n",
            "Finished epoch 57, latest loss 0.43991145491600037\n",
            "Finished epoch 58, latest loss 0.43878963589668274\n",
            "Finished epoch 59, latest loss 0.43898147344589233\n",
            "Finished epoch 60, latest loss 0.4343070983886719\n",
            "Finished epoch 61, latest loss 0.43972134590148926\n",
            "Finished epoch 62, latest loss 0.43674325942993164\n",
            "Finished epoch 63, latest loss 0.43781816959381104\n",
            "Finished epoch 64, latest loss 0.4370891749858856\n",
            "Finished epoch 65, latest loss 0.4341891407966614\n",
            "Finished epoch 66, latest loss 0.4337139129638672\n",
            "Finished epoch 67, latest loss 0.43069419264793396\n",
            "Finished epoch 68, latest loss 0.4315219223499298\n",
            "Finished epoch 69, latest loss 0.4271233081817627\n",
            "Finished epoch 70, latest loss 0.42650917172431946\n",
            "Finished epoch 71, latest loss 0.4255984127521515\n",
            "Finished epoch 72, latest loss 0.42219552397727966\n",
            "Finished epoch 73, latest loss 0.42359912395477295\n",
            "Finished epoch 74, latest loss 0.4186343252658844\n",
            "Finished epoch 75, latest loss 0.41771090030670166\n",
            "Finished epoch 76, latest loss 0.41628125309944153\n",
            "Finished epoch 77, latest loss 0.42177078127861023\n",
            "Finished epoch 78, latest loss 0.4165269732475281\n",
            "Finished epoch 79, latest loss 0.41769158840179443\n",
            "Finished epoch 80, latest loss 0.4139734208583832\n",
            "Finished epoch 81, latest loss 0.4183952212333679\n",
            "Finished epoch 82, latest loss 0.4177020192146301\n",
            "Finished epoch 83, latest loss 0.4170694947242737\n",
            "Finished epoch 84, latest loss 0.41406285762786865\n",
            "Finished epoch 85, latest loss 0.41594451665878296\n",
            "Finished epoch 86, latest loss 0.41720321774482727\n",
            "Finished epoch 87, latest loss 0.41479191184043884\n",
            "Finished epoch 88, latest loss 0.4134003520011902\n",
            "Finished epoch 89, latest loss 0.4119516909122467\n",
            "Finished epoch 90, latest loss 0.41414135694503784\n",
            "Finished epoch 91, latest loss 0.4097922146320343\n",
            "Finished epoch 92, latest loss 0.40727856755256653\n",
            "Finished epoch 93, latest loss 0.4086720943450928\n",
            "Finished epoch 94, latest loss 0.4074775278568268\n",
            "Finished epoch 95, latest loss 0.4054555892944336\n",
            "Finished epoch 96, latest loss 0.40709829330444336\n",
            "Finished epoch 97, latest loss 0.4072563350200653\n",
            "Finished epoch 98, latest loss 0.40426596999168396\n",
            "Finished epoch 99, latest loss 0.40484189987182617\n"
          ]
        }
      ]
    },
    {
      "cell_type": "code",
      "source": [
        "i = 5\n",
        "X_sample = X[i:i+1]\n",
        "y_pred = model(X_sample)\n",
        "print(f\"{X_sample[0]} -> {y_pred[0]}\")"
      ],
      "metadata": {
        "colab": {
          "base_uri": "https://localhost:8080/"
        },
        "id": "KPlS0nnksSW4",
        "outputId": "0b921bf6-a972-471f-b8c5-3f9037d730b8"
      },
      "execution_count": 15,
      "outputs": [
        {
          "output_type": "stream",
          "name": "stdout",
          "text": [
            "tensor([  5.0000, 116.0000,  74.0000,   0.0000,   0.0000,  25.6000,   0.2010,\n",
            "         30.0000]) -> tensor([0.2444], grad_fn=<SelectBackward0>)\n"
          ]
        }
      ]
    },
    {
      "cell_type": "code",
      "source": [
        "i = 5\n",
        "X_sample = X[i:i+1]\n",
        "model.eval()\n",
        "with torch.no_grad():\n",
        "    y_pred = model(X_sample)\n",
        "print(f\"{X_sample[0]} -> {y_pred[0]}\")"
      ],
      "metadata": {
        "colab": {
          "base_uri": "https://localhost:8080/"
        },
        "id": "07Vm3E-SsTok",
        "outputId": "9506c076-d44d-4361-bb86-55a0247595b8"
      },
      "execution_count": 16,
      "outputs": [
        {
          "output_type": "stream",
          "name": "stdout",
          "text": [
            "tensor([  5.0000, 116.0000,  74.0000,   0.0000,   0.0000,  25.6000,   0.2010,\n",
            "         30.0000]) -> tensor([0.2444])\n"
          ]
        }
      ]
    },
    {
      "cell_type": "code",
      "source": [
        "model.eval()\n",
        "with torch.no_grad():\n",
        "    y_pred = model(X)\n",
        "accuracy = (y_pred.round() == y).float().mean()\n",
        "print(f\"Accuracy {accuracy}\")"
      ],
      "metadata": {
        "colab": {
          "base_uri": "https://localhost:8080/"
        },
        "id": "qopB6LTcsWSQ",
        "outputId": "b0e25ad8-643a-4a03-b643-b023bca467b0"
      },
      "execution_count": 17,
      "outputs": [
        {
          "output_type": "stream",
          "name": "stdout",
          "text": [
            "Accuracy 0.7682291865348816\n"
          ]
        }
      ]
    }
  ]
}